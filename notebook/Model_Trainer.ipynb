{
 "cells": [
  {
   "cell_type": "markdown",
   "id": "01cb8ec9-07cc-49c4-b353-1a04d4fe0461",
   "metadata": {},
   "source": [
    "# MODEL TRAINER\n"
   ]
  },
  {
   "cell_type": "code",
   "execution_count": 2,
   "id": "8cbcdc09-0c01-42f3-9cca-42ba363f4793",
   "metadata": {},
   "outputs": [],
   "source": [
    "#Importing basic Libraries\n",
    "import pandas as pd\n",
    "import numpy as np\n",
    "import matplotlib.pyplot as plt\n",
    "%matplotlib inline\n",
    "import warnings\n",
    "warnings.filterwarnings('ignore')\n",
    "#Modelling\n",
    "from sklearn.metrics import mean_squared_error,r2_score,mean_absolute_error\n",
    "from sklearn.neighbors import KNeighborsRegressor\n",
    "from sklearn.tree import DecisionTreeRegressor\n",
    "from sklearn.ensemble import RandomForestRegressor, AdaBoostRegressor\n",
    "from sklearn.svm import SVR\n",
    "from sklearn.linear_model import LinearRegression,Ridge,Lasso\n",
    "from sklearn.model_selection import RandomizedSearchCV\n",
    "from catboost import CatBoostRegressor\n",
    "from xgboost.sklearn import XGBRegressor"
   ]
  },
  {
   "cell_type": "markdown",
   "id": "4c8c9e6e-5b5b-42d0-be89-9dd4b7fb82c5",
   "metadata": {},
   "source": [
    "## Reading the source dataset as a Pandas Dataframe\n"
   ]
  },
  {
   "cell_type": "code",
   "execution_count": 3,
   "id": "26d2b7d9-d9ba-46ad-862e-ef93c301e2c7",
   "metadata": {},
   "outputs": [],
   "source": [
    "df=pd.read_csv('StudentsPerformance.csv')\n"
   ]
  },
  {
   "cell_type": "code",
   "execution_count": 4,
   "id": "03714f6b-0709-4c82-8faf-69a2bfaf2aec",
   "metadata": {},
   "outputs": [
    {
     "data": {
      "text/html": [
       "<div>\n",
       "<style scoped>\n",
       "    .dataframe tbody tr th:only-of-type {\n",
       "        vertical-align: middle;\n",
       "    }\n",
       "\n",
       "    .dataframe tbody tr th {\n",
       "        vertical-align: top;\n",
       "    }\n",
       "\n",
       "    .dataframe thead th {\n",
       "        text-align: right;\n",
       "    }\n",
       "</style>\n",
       "<table border=\"1\" class=\"dataframe\">\n",
       "  <thead>\n",
       "    <tr style=\"text-align: right;\">\n",
       "      <th></th>\n",
       "      <th>gender</th>\n",
       "      <th>race/ethnicity</th>\n",
       "      <th>parental level of education</th>\n",
       "      <th>lunch</th>\n",
       "      <th>test preparation course</th>\n",
       "      <th>math score</th>\n",
       "      <th>reading score</th>\n",
       "      <th>writing score</th>\n",
       "    </tr>\n",
       "  </thead>\n",
       "  <tbody>\n",
       "    <tr>\n",
       "      <th>0</th>\n",
       "      <td>female</td>\n",
       "      <td>group B</td>\n",
       "      <td>bachelor's degree</td>\n",
       "      <td>standard</td>\n",
       "      <td>none</td>\n",
       "      <td>72</td>\n",
       "      <td>72</td>\n",
       "      <td>74</td>\n",
       "    </tr>\n",
       "    <tr>\n",
       "      <th>1</th>\n",
       "      <td>female</td>\n",
       "      <td>group C</td>\n",
       "      <td>some college</td>\n",
       "      <td>standard</td>\n",
       "      <td>completed</td>\n",
       "      <td>69</td>\n",
       "      <td>90</td>\n",
       "      <td>88</td>\n",
       "    </tr>\n",
       "    <tr>\n",
       "      <th>2</th>\n",
       "      <td>female</td>\n",
       "      <td>group B</td>\n",
       "      <td>master's degree</td>\n",
       "      <td>standard</td>\n",
       "      <td>none</td>\n",
       "      <td>90</td>\n",
       "      <td>95</td>\n",
       "      <td>93</td>\n",
       "    </tr>\n",
       "    <tr>\n",
       "      <th>3</th>\n",
       "      <td>male</td>\n",
       "      <td>group A</td>\n",
       "      <td>associate's degree</td>\n",
       "      <td>free/reduced</td>\n",
       "      <td>none</td>\n",
       "      <td>47</td>\n",
       "      <td>57</td>\n",
       "      <td>44</td>\n",
       "    </tr>\n",
       "    <tr>\n",
       "      <th>4</th>\n",
       "      <td>male</td>\n",
       "      <td>group C</td>\n",
       "      <td>some college</td>\n",
       "      <td>standard</td>\n",
       "      <td>none</td>\n",
       "      <td>76</td>\n",
       "      <td>78</td>\n",
       "      <td>75</td>\n",
       "    </tr>\n",
       "  </tbody>\n",
       "</table>\n",
       "</div>"
      ],
      "text/plain": [
       "   gender race/ethnicity parental level of education         lunch  \\\n",
       "0  female        group B           bachelor's degree      standard   \n",
       "1  female        group C                some college      standard   \n",
       "2  female        group B             master's degree      standard   \n",
       "3    male        group A          associate's degree  free/reduced   \n",
       "4    male        group C                some college      standard   \n",
       "\n",
       "  test preparation course  math score  reading score  writing score  \n",
       "0                    none          72             72             74  \n",
       "1               completed          69             90             88  \n",
       "2                    none          90             95             93  \n",
       "3                    none          47             57             44  \n",
       "4                    none          76             78             75  "
      ]
     },
     "execution_count": 4,
     "metadata": {},
     "output_type": "execute_result"
    }
   ],
   "source": [
    "#Top 5 Records\n",
    "df.head()"
   ]
  },
  {
   "cell_type": "code",
   "execution_count": 5,
   "id": "eea024a6-d5d2-4d84-90de-6f183dcd2e1c",
   "metadata": {},
   "outputs": [],
   "source": [
    "df['total_score']=df['math score']+df['reading score']+df['writing score']"
   ]
  },
  {
   "cell_type": "markdown",
   "id": "a4e6b771-9e9b-4d0a-841b-084ccda22aac",
   "metadata": {},
   "source": [
    "# Preparing to predict total score based on all independent features\n",
    "## Preparing X and y variables"
   ]
  },
  {
   "cell_type": "code",
   "execution_count": 6,
   "id": "c6bf9408-0784-41b1-80b5-08071d550c7b",
   "metadata": {},
   "outputs": [],
   "source": [
    "X=df.drop(columns=['total_score'],axis=1)"
   ]
  },
  {
   "cell_type": "code",
   "execution_count": 7,
   "id": "be4c3943-5ae5-4b72-bfc0-794725e18cd3",
   "metadata": {},
   "outputs": [
    {
     "data": {
      "text/html": [
       "<div>\n",
       "<style scoped>\n",
       "    .dataframe tbody tr th:only-of-type {\n",
       "        vertical-align: middle;\n",
       "    }\n",
       "\n",
       "    .dataframe tbody tr th {\n",
       "        vertical-align: top;\n",
       "    }\n",
       "\n",
       "    .dataframe thead th {\n",
       "        text-align: right;\n",
       "    }\n",
       "</style>\n",
       "<table border=\"1\" class=\"dataframe\">\n",
       "  <thead>\n",
       "    <tr style=\"text-align: right;\">\n",
       "      <th></th>\n",
       "      <th>gender</th>\n",
       "      <th>race/ethnicity</th>\n",
       "      <th>parental level of education</th>\n",
       "      <th>lunch</th>\n",
       "      <th>test preparation course</th>\n",
       "      <th>math score</th>\n",
       "      <th>reading score</th>\n",
       "      <th>writing score</th>\n",
       "    </tr>\n",
       "  </thead>\n",
       "  <tbody>\n",
       "    <tr>\n",
       "      <th>0</th>\n",
       "      <td>female</td>\n",
       "      <td>group B</td>\n",
       "      <td>bachelor's degree</td>\n",
       "      <td>standard</td>\n",
       "      <td>none</td>\n",
       "      <td>72</td>\n",
       "      <td>72</td>\n",
       "      <td>74</td>\n",
       "    </tr>\n",
       "    <tr>\n",
       "      <th>1</th>\n",
       "      <td>female</td>\n",
       "      <td>group C</td>\n",
       "      <td>some college</td>\n",
       "      <td>standard</td>\n",
       "      <td>completed</td>\n",
       "      <td>69</td>\n",
       "      <td>90</td>\n",
       "      <td>88</td>\n",
       "    </tr>\n",
       "    <tr>\n",
       "      <th>2</th>\n",
       "      <td>female</td>\n",
       "      <td>group B</td>\n",
       "      <td>master's degree</td>\n",
       "      <td>standard</td>\n",
       "      <td>none</td>\n",
       "      <td>90</td>\n",
       "      <td>95</td>\n",
       "      <td>93</td>\n",
       "    </tr>\n",
       "    <tr>\n",
       "      <th>3</th>\n",
       "      <td>male</td>\n",
       "      <td>group A</td>\n",
       "      <td>associate's degree</td>\n",
       "      <td>free/reduced</td>\n",
       "      <td>none</td>\n",
       "      <td>47</td>\n",
       "      <td>57</td>\n",
       "      <td>44</td>\n",
       "    </tr>\n",
       "    <tr>\n",
       "      <th>4</th>\n",
       "      <td>male</td>\n",
       "      <td>group C</td>\n",
       "      <td>some college</td>\n",
       "      <td>standard</td>\n",
       "      <td>none</td>\n",
       "      <td>76</td>\n",
       "      <td>78</td>\n",
       "      <td>75</td>\n",
       "    </tr>\n",
       "    <tr>\n",
       "      <th>...</th>\n",
       "      <td>...</td>\n",
       "      <td>...</td>\n",
       "      <td>...</td>\n",
       "      <td>...</td>\n",
       "      <td>...</td>\n",
       "      <td>...</td>\n",
       "      <td>...</td>\n",
       "      <td>...</td>\n",
       "    </tr>\n",
       "    <tr>\n",
       "      <th>995</th>\n",
       "      <td>female</td>\n",
       "      <td>group E</td>\n",
       "      <td>master's degree</td>\n",
       "      <td>standard</td>\n",
       "      <td>completed</td>\n",
       "      <td>88</td>\n",
       "      <td>99</td>\n",
       "      <td>95</td>\n",
       "    </tr>\n",
       "    <tr>\n",
       "      <th>996</th>\n",
       "      <td>male</td>\n",
       "      <td>group C</td>\n",
       "      <td>high school</td>\n",
       "      <td>free/reduced</td>\n",
       "      <td>none</td>\n",
       "      <td>62</td>\n",
       "      <td>55</td>\n",
       "      <td>55</td>\n",
       "    </tr>\n",
       "    <tr>\n",
       "      <th>997</th>\n",
       "      <td>female</td>\n",
       "      <td>group C</td>\n",
       "      <td>high school</td>\n",
       "      <td>free/reduced</td>\n",
       "      <td>completed</td>\n",
       "      <td>59</td>\n",
       "      <td>71</td>\n",
       "      <td>65</td>\n",
       "    </tr>\n",
       "    <tr>\n",
       "      <th>998</th>\n",
       "      <td>female</td>\n",
       "      <td>group D</td>\n",
       "      <td>some college</td>\n",
       "      <td>standard</td>\n",
       "      <td>completed</td>\n",
       "      <td>68</td>\n",
       "      <td>78</td>\n",
       "      <td>77</td>\n",
       "    </tr>\n",
       "    <tr>\n",
       "      <th>999</th>\n",
       "      <td>female</td>\n",
       "      <td>group D</td>\n",
       "      <td>some college</td>\n",
       "      <td>free/reduced</td>\n",
       "      <td>none</td>\n",
       "      <td>77</td>\n",
       "      <td>86</td>\n",
       "      <td>86</td>\n",
       "    </tr>\n",
       "  </tbody>\n",
       "</table>\n",
       "<p>1000 rows × 8 columns</p>\n",
       "</div>"
      ],
      "text/plain": [
       "     gender race/ethnicity parental level of education         lunch  \\\n",
       "0    female        group B           bachelor's degree      standard   \n",
       "1    female        group C                some college      standard   \n",
       "2    female        group B             master's degree      standard   \n",
       "3      male        group A          associate's degree  free/reduced   \n",
       "4      male        group C                some college      standard   \n",
       "..      ...            ...                         ...           ...   \n",
       "995  female        group E             master's degree      standard   \n",
       "996    male        group C                 high school  free/reduced   \n",
       "997  female        group C                 high school  free/reduced   \n",
       "998  female        group D                some college      standard   \n",
       "999  female        group D                some college  free/reduced   \n",
       "\n",
       "    test preparation course  math score  reading score  writing score  \n",
       "0                      none          72             72             74  \n",
       "1                 completed          69             90             88  \n",
       "2                      none          90             95             93  \n",
       "3                      none          47             57             44  \n",
       "4                      none          76             78             75  \n",
       "..                      ...         ...            ...            ...  \n",
       "995               completed          88             99             95  \n",
       "996                    none          62             55             55  \n",
       "997               completed          59             71             65  \n",
       "998               completed          68             78             77  \n",
       "999                    none          77             86             86  \n",
       "\n",
       "[1000 rows x 8 columns]"
      ]
     },
     "execution_count": 7,
     "metadata": {},
     "output_type": "execute_result"
    }
   ],
   "source": [
    "X"
   ]
  },
  {
   "cell_type": "code",
   "execution_count": 8,
   "id": "43d6ebde-aa20-4c92-adb2-4fda4563e2ca",
   "metadata": {},
   "outputs": [],
   "source": [
    "y=df['total_score']"
   ]
  },
  {
   "cell_type": "code",
   "execution_count": 11,
   "id": "4efca7a6-b38e-4b06-84ca-98a7a6c808ae",
   "metadata": {},
   "outputs": [
    {
     "data": {
      "text/plain": [
       "0      218\n",
       "1      247\n",
       "2      278\n",
       "3      148\n",
       "4      229\n",
       "      ... \n",
       "995    282\n",
       "996    172\n",
       "997    195\n",
       "998    223\n",
       "999    249\n",
       "Name: total_score, Length: 1000, dtype: int64"
      ]
     },
     "execution_count": 11,
     "metadata": {},
     "output_type": "execute_result"
    }
   ],
   "source": [
    "y"
   ]
  },
  {
   "cell_type": "code",
   "execution_count": 12,
   "id": "f94f6fe6-ea8a-4e07-8987-515cd1ef781e",
   "metadata": {},
   "outputs": [],
   "source": [
    "#Column Transformer pipeline for simultaneous transformation\n",
    "\n",
    "numerical_features=X.select_dtypes(exclude=\"object\").columns\n",
    "categorical_features=X.select_dtypes(include=\"object\").columns\n",
    "\n",
    "from sklearn.preprocessing import OneHotEncoder,StandardScaler\n",
    "from sklearn.compose import ColumnTransformer\n",
    "\n",
    "numeric_transfomer=StandardScaler()\n",
    "ohe_transformer=OneHotEncoder()\n",
    "\n",
    "preprocessor=ColumnTransformer(\n",
    "    [\n",
    "        (\"OneHotEncoder\", ohe_transformer,categorical_features),\n",
    "        (\"StandardScaler\", numeric_transfomer,numerical_features),\n",
    "    ]\n",
    ")"
   ]
  },
  {
   "cell_type": "code",
   "execution_count": 13,
   "id": "2e6d288b-594e-4003-be85-6330e862f181",
   "metadata": {},
   "outputs": [],
   "source": [
    "X=preprocessor.fit_transform(X)"
   ]
  },
  {
   "cell_type": "code",
   "execution_count": 14,
   "id": "ac4d00bd-9871-482a-b3cf-f74fdc28960d",
   "metadata": {},
   "outputs": [
    {
     "data": {
      "text/plain": [
       "array([[ 1.        ,  0.        ,  0.        , ...,  0.39002351,\n",
       "         0.19399858,  0.39149181],\n",
       "       [ 1.        ,  0.        ,  0.        , ...,  0.19207553,\n",
       "         1.42747598,  1.31326868],\n",
       "       [ 1.        ,  0.        ,  0.        , ...,  1.57771141,\n",
       "         1.77010859,  1.64247471],\n",
       "       ...,\n",
       "       [ 1.        ,  0.        ,  0.        , ..., -0.46775108,\n",
       "         0.12547206, -0.20107904],\n",
       "       [ 1.        ,  0.        ,  0.        , ...,  0.12609287,\n",
       "         0.60515772,  0.58901542],\n",
       "       [ 1.        ,  0.        ,  0.        , ...,  0.71993682,\n",
       "         1.15336989,  1.18158627]])"
      ]
     },
     "execution_count": 14,
     "metadata": {},
     "output_type": "execute_result"
    }
   ],
   "source": [
    "X"
   ]
  },
  {
   "cell_type": "code",
   "execution_count": 15,
   "id": "8996c914-1dbf-49d9-b713-9679a137ef64",
   "metadata": {},
   "outputs": [
    {
     "data": {
      "text/plain": [
       "(1000, 20)"
      ]
     },
     "execution_count": 15,
     "metadata": {},
     "output_type": "execute_result"
    }
   ],
   "source": [
    "X.shape"
   ]
  },
  {
   "cell_type": "code",
   "execution_count": 17,
   "id": "bec934cd-888f-453d-b357-c255c23ff390",
   "metadata": {},
   "outputs": [],
   "source": [
    "#Train test split\n",
    "from sklearn.model_selection import train_test_split\n",
    "X_train, X_test, y_train, y_test = train_test_split(X, y, test_size=0.2, random_state=42)\n"
   ]
  },
  {
   "cell_type": "code",
   "execution_count": 18,
   "id": "c8147181-b906-415c-976b-9da535d25ec3",
   "metadata": {},
   "outputs": [
    {
     "data": {
      "text/plain": [
       "array([[ 1.        ,  0.        ,  0.        , ..., -0.2698031 ,\n",
       "         0.05694554,  0.45733301],\n",
       "       [ 1.        ,  0.        ,  0.        , ..., -0.00587246,\n",
       "         0.94779033,  0.98406266],\n",
       "       [ 1.        ,  0.        ,  0.        , ...,  0.85190214,\n",
       "         1.35894946,  1.18158627],\n",
       "       ...,\n",
       "       [ 1.        ,  0.        ,  0.        , ..., -0.86364705,\n",
       "        -0.49126664, -0.99117351],\n",
       "       [ 0.        ,  1.        ,  0.        , ..., -1.06159503,\n",
       "        -1.45063795, -0.99117351],\n",
       "       [ 1.        ,  0.        ,  0.        , ...,  1.2477981 ,\n",
       "         1.4960025 ,  1.37910989]])"
      ]
     },
     "execution_count": 18,
     "metadata": {},
     "output_type": "execute_result"
    }
   ],
   "source": [
    "X_train"
   ]
  },
  {
   "cell_type": "code",
   "execution_count": 19,
   "id": "01364fcb-b33a-40d7-a6cd-160780afbf3f",
   "metadata": {},
   "outputs": [
    {
     "data": {
      "text/plain": [
       "521    261\n",
       "737    192\n",
       "740    225\n",
       "660    224\n",
       "411    245\n",
       "      ... \n",
       "408    165\n",
       "332    171\n",
       "208    231\n",
       "613    216\n",
       "78     207\n",
       "Name: total_score, Length: 200, dtype: int64"
      ]
     },
     "execution_count": 19,
     "metadata": {},
     "output_type": "execute_result"
    }
   ],
   "source": [
    "y_test"
   ]
  },
  {
   "cell_type": "code",
   "execution_count": 20,
   "id": "dd58462e-a22d-4b55-a4b8-9c1adb5f043e",
   "metadata": {},
   "outputs": [
    {
     "data": {
      "text/plain": [
       "((800, 20), (200, 20))"
      ]
     },
     "execution_count": 20,
     "metadata": {},
     "output_type": "execute_result"
    }
   ],
   "source": [
    "X_train.shape, X_test.shape"
   ]
  },
  {
   "cell_type": "code",
   "execution_count": 21,
   "id": "dc6ef7ed-7da1-4e38-a6d2-a9bccb031bbd",
   "metadata": {},
   "outputs": [],
   "source": [
    "def evaluate_model(y_true, y_pred):\n",
    "    # Calculate metrics\n",
    "    mae = mean_absolute_error(y_true, y_pred)\n",
    "    rmse = np.sqrt(mean_squared_error(y_true, y_pred))\n",
    "    r2 = r2_score(y_true, y_pred)\n",
    "    \n",
    "    # Return metrics as a dictionary\n",
    "    return {'mae': mae, 'rmse': rmse, 'r2': r2}\n",
    "\n",
    "    "
   ]
  },
  {
   "cell_type": "code",
   "execution_count": 22,
   "id": "c9e01d32-89a2-4dd5-81ee-60b9cf7641ed",
   "metadata": {},
   "outputs": [
    {
     "name": "stdout",
     "output_type": "stream",
     "text": [
      "Linear Regression\n",
      "Model Performance for Training Dataset\n",
      "- Root Mean Squared Error: 0.0000\n",
      "- Mean Absolute Error: 0.0000\n",
      "- r2 Score: 1.0000\n",
      "-----------------------------------------------------\n",
      "Model Performance for Test Dataset\n",
      "- Root Mean Squared Error: 0.0000\n",
      "- Mean Absolute Error: 0.0000\n",
      "- r2 Score: 1.0000\n",
      "===================================\n",
      "\n",
      "\n",
      "Ridge\n",
      "Model Performance for Training Dataset\n",
      "- Root Mean Squared Error: 0.0241\n",
      "- Mean Absolute Error: 0.0195\n",
      "- r2 Score: 1.0000\n",
      "-----------------------------------------------------\n",
      "Model Performance for Test Dataset\n",
      "- Root Mean Squared Error: 0.0264\n",
      "- Mean Absolute Error: 0.0201\n",
      "- r2 Score: 1.0000\n",
      "===================================\n",
      "\n",
      "\n",
      "Lasso\n",
      "Model Performance for Training Dataset\n",
      "- Root Mean Squared Error: 1.0644\n",
      "- Mean Absolute Error: 0.8505\n",
      "- r2 Score: 0.9994\n",
      "-----------------------------------------------------\n",
      "Model Performance for Test Dataset\n",
      "- Root Mean Squared Error: 1.1139\n",
      "- Mean Absolute Error: 0.8764\n",
      "- r2 Score: 0.9994\n",
      "===================================\n",
      "\n",
      "\n",
      "Decision Tree\n",
      "Model Performance for Training Dataset\n",
      "- Root Mean Squared Error: 0.0000\n",
      "- Mean Absolute Error: 0.0000\n",
      "- r2 Score: 1.0000\n",
      "-----------------------------------------------------\n",
      "Model Performance for Test Dataset\n",
      "- Root Mean Squared Error: 5.5191\n",
      "- Mean Absolute Error: 3.4300\n",
      "- r2 Score: 0.9842\n",
      "===================================\n",
      "\n",
      "\n",
      "K-Nearest Neighbors\n",
      "Model Performance for Training Dataset\n",
      "- Root Mean Squared Error: 6.7719\n",
      "- Mean Absolute Error: 5.3040\n",
      "- r2 Score: 0.9745\n",
      "-----------------------------------------------------\n",
      "Model Performance for Test Dataset\n",
      "- Root Mean Squared Error: 9.2119\n",
      "- Mean Absolute Error: 6.8500\n",
      "- r2 Score: 0.9560\n",
      "===================================\n",
      "\n",
      "\n",
      "Random-Forest\n",
      "Model Performance for Training Dataset\n",
      "- Root Mean Squared Error: 0.8619\n",
      "- Mean Absolute Error: 0.5489\n",
      "- r2 Score: 0.9996\n",
      "-----------------------------------------------------\n",
      "Model Performance for Test Dataset\n",
      "- Root Mean Squared Error: 3.3165\n",
      "- Mean Absolute Error: 1.5251\n",
      "- r2 Score: 0.9943\n",
      "===================================\n",
      "\n",
      "\n",
      "CatBoost\n",
      "Model Performance for Training Dataset\n",
      "- Root Mean Squared Error: 0.3180\n",
      "- Mean Absolute Error: 0.2558\n",
      "- r2 Score: 0.9999\n",
      "-----------------------------------------------------\n",
      "Model Performance for Test Dataset\n",
      "- Root Mean Squared Error: 3.5528\n",
      "- Mean Absolute Error: 0.9921\n",
      "- r2 Score: 0.9935\n",
      "===================================\n",
      "\n",
      "\n",
      "XGBoost\n",
      "Model Performance for Training Dataset\n",
      "- Root Mean Squared Error: 0.1692\n",
      "- Mean Absolute Error: 0.1199\n",
      "- r2 Score: 1.0000\n",
      "-----------------------------------------------------\n",
      "Model Performance for Test Dataset\n",
      "- Root Mean Squared Error: 3.1798\n",
      "- Mean Absolute Error: 1.6569\n",
      "- r2 Score: 0.9948\n",
      "===================================\n",
      "\n",
      "\n",
      "AdaBoost\n",
      "Model Performance for Training Dataset\n",
      "- Root Mean Squared Error: 4.9849\n",
      "- Mean Absolute Error: 3.9026\n",
      "- r2 Score: 0.9862\n",
      "-----------------------------------------------------\n",
      "Model Performance for Test Dataset\n",
      "- Root Mean Squared Error: 6.2250\n",
      "- Mean Absolute Error: 4.3263\n",
      "- r2 Score: 0.9799\n",
      "===================================\n",
      "\n",
      "\n"
     ]
    }
   ],
   "source": [
    "models={\n",
    "    \"Linear Regression\":LinearRegression(),\n",
    "    \"Ridge\":Ridge(),\n",
    "    \"Lasso\":Lasso(),\n",
    "    \"Decision Tree\":DecisionTreeRegressor(),\n",
    "    \"K-Nearest Neighbors\":KNeighborsRegressor(),\n",
    "    \"Random-Forest\":RandomForestRegressor(),\n",
    "    \"CatBoost\":CatBoostRegressor(verbose=False),\n",
    "    \"XGBoost\":XGBRegressor(),\n",
    "    \"AdaBoost\":AdaBoostRegressor()\n",
    "}\n",
    "model_list=[]\n",
    "r2_list=[]\n",
    "for model_name, model in models.items():\n",
    "    model.fit(X_train, y_train)\n",
    "\n",
    "    # Model predictions\n",
    "    y_train_pred = model.predict(X_train)\n",
    "    y_test_pred = model.predict(X_test)\n",
    "\n",
    "    # Evaluation of test and train\n",
    "    model_train_metrics = evaluate_model(y_train, y_train_pred)\n",
    "    model_test_metrics = evaluate_model(y_test, y_test_pred)\n",
    "\n",
    "    print(model_name)\n",
    "    model_list.append(model_name)\n",
    "\n",
    "    print(\"Model Performance for Training Dataset\")\n",
    "    print(\"- Root Mean Squared Error: {:.4f}\".format(model_train_metrics['rmse']))\n",
    "    print(\"- Mean Absolute Error: {:.4f}\".format(model_train_metrics['mae']))\n",
    "    print(\"- r2 Score: {:.4f}\".format(model_train_metrics['r2']))\n",
    "          \n",
    "    print(\"-----------------------------------------------------\")\n",
    "    print(\"Model Performance for Test Dataset\")\n",
    "    print(\"- Root Mean Squared Error: {:.4f}\".format(model_test_metrics['rmse']))\n",
    "    print(\"- Mean Absolute Error: {:.4f}\".format(model_test_metrics['mae']))\n",
    "    print(\"- r2 Score: {:.4f}\".format(model_test_metrics['r2']))\n",
    "\n",
    "    r2_list.append(model_test_metrics['r2'])\n",
    "\n",
    "    print(\"=\" * 35)\n",
    "    print(\"\\n\")\n"
   ]
  },
  {
   "cell_type": "code",
   "execution_count": 23,
   "id": "9eed5766-60de-43f3-8d5f-687f8549f9e0",
   "metadata": {},
   "outputs": [
    {
     "data": {
      "text/html": [
       "<div>\n",
       "<style scoped>\n",
       "    .dataframe tbody tr th:only-of-type {\n",
       "        vertical-align: middle;\n",
       "    }\n",
       "\n",
       "    .dataframe tbody tr th {\n",
       "        vertical-align: top;\n",
       "    }\n",
       "\n",
       "    .dataframe thead th {\n",
       "        text-align: right;\n",
       "    }\n",
       "</style>\n",
       "<table border=\"1\" class=\"dataframe\">\n",
       "  <thead>\n",
       "    <tr style=\"text-align: right;\">\n",
       "      <th></th>\n",
       "      <th>model_name</th>\n",
       "      <th>r2</th>\n",
       "    </tr>\n",
       "  </thead>\n",
       "  <tbody>\n",
       "    <tr>\n",
       "      <th>0</th>\n",
       "      <td>Linear Regression</td>\n",
       "      <td>1.000000</td>\n",
       "    </tr>\n",
       "    <tr>\n",
       "      <th>1</th>\n",
       "      <td>Ridge</td>\n",
       "      <td>1.000000</td>\n",
       "    </tr>\n",
       "    <tr>\n",
       "      <th>2</th>\n",
       "      <td>Lasso</td>\n",
       "      <td>0.999357</td>\n",
       "    </tr>\n",
       "    <tr>\n",
       "      <th>7</th>\n",
       "      <td>XGBoost</td>\n",
       "      <td>0.994759</td>\n",
       "    </tr>\n",
       "    <tr>\n",
       "      <th>5</th>\n",
       "      <td>Random-Forest</td>\n",
       "      <td>0.994299</td>\n",
       "    </tr>\n",
       "    <tr>\n",
       "      <th>6</th>\n",
       "      <td>CatBoost</td>\n",
       "      <td>0.993457</td>\n",
       "    </tr>\n",
       "    <tr>\n",
       "      <th>3</th>\n",
       "      <td>Decision Tree</td>\n",
       "      <td>0.984212</td>\n",
       "    </tr>\n",
       "    <tr>\n",
       "      <th>8</th>\n",
       "      <td>AdaBoost</td>\n",
       "      <td>0.979915</td>\n",
       "    </tr>\n",
       "    <tr>\n",
       "      <th>4</th>\n",
       "      <td>K-Nearest Neighbors</td>\n",
       "      <td>0.956016</td>\n",
       "    </tr>\n",
       "  </tbody>\n",
       "</table>\n",
       "</div>"
      ],
      "text/plain": [
       "            model_name        r2\n",
       "0    Linear Regression  1.000000\n",
       "1                Ridge  1.000000\n",
       "2                Lasso  0.999357\n",
       "7              XGBoost  0.994759\n",
       "5        Random-Forest  0.994299\n",
       "6             CatBoost  0.993457\n",
       "3        Decision Tree  0.984212\n",
       "8             AdaBoost  0.979915\n",
       "4  K-Nearest Neighbors  0.956016"
      ]
     },
     "execution_count": 23,
     "metadata": {},
     "output_type": "execute_result"
    }
   ],
   "source": [
    "pd.DataFrame(list(zip(model_list,r2_list)),columns=['model_name','r2']).sort_values(by='r2', ascending=False)"
   ]
  },
  {
   "cell_type": "markdown",
   "id": "4c64f651-e6a0-4b50-b343-22c6ba4f6f5f",
   "metadata": {},
   "source": [
    "## Moving Forward with Linear Regression\n",
    "\n"
   ]
  },
  {
   "cell_type": "code",
   "execution_count": 24,
   "id": "54781c02-3957-46cf-abe5-f4e80793625b",
   "metadata": {},
   "outputs": [
    {
     "name": "stdout",
     "output_type": "stream",
     "text": [
      "Accuracy of the model 97.78\n"
     ]
    }
   ],
   "source": [
    "adaboost_model=AdaBoostRegressor()\n",
    "adaboost_model=adaboost_model.fit(X_train,y_train)\n",
    "y_pred=adaboost_model.predict(X_test)\n",
    "score=r2_score(y_test,y_pred)*100\n",
    "print(\"Accuracy of the model %.2f\" %score)\n"
   ]
  },
  {
   "cell_type": "markdown",
   "id": "3f8de7d1-db42-46f9-8757-bcbfe640c904",
   "metadata": {},
   "source": [
    "## Plot y-test and y-pred"
   ]
  },
  {
   "cell_type": "code",
   "execution_count": 25,
   "id": "e9b19f3f-01b6-4e6c-843f-1c35a3e99d19",
   "metadata": {},
   "outputs": [
    {
     "data": {
      "text/plain": [
       "Text(0, 0.5, 'Predicted')"
      ]
     },
     "execution_count": 25,
     "metadata": {},
     "output_type": "execute_result"
    },
    {
     "data": {
      "image/png": "[encoded data removed]",
      "text/plain": [
       "<Figure size 640x480 with 1 Axes>"
      ]
     },
     "metadata": {},
     "output_type": "display_data"
    }
   ],
   "source": [
    "plt.scatter(y_test,y_pred)\n",
    "plt.xlabel('Actual')\n",
    "plt.ylabel('Predicted')"
   ]
  },
  {
   "cell_type": "code",
   "execution_count": 26,
   "id": "30f13b23-0994-48f3-99f9-ec8691eb97e3",
   "metadata": {},
   "outputs": [
    {
     "data": {
      "text/plain": [
       "<Axes: xlabel='total_score'>"
      ]
     },
     "execution_count": 26,
     "metadata": {},
     "output_type": "execute_result"
    },
    {
     "data": {
      "image/png": "[encoded data removed]",
      "text/plain": [
       "<Figure size 640x480 with 1 Axes>"
      ]
     },
     "metadata": {},
     "output_type": "display_data"
    }
   ],
   "source": [
    "import seaborn as sns\n",
    "sns.regplot(x=y_test,y=y_pred,ci=None,color=\"skyblue\")"
   ]
  },
  {
   "cell_type": "markdown",
   "id": "395b0e07-4ddb-45c7-a749-b758d5f2ed01",
   "metadata": {},
   "source": [
    "## Difference between Acutal and Predicted Values\n"
   ]
  },
  {
   "cell_type": "code",
   "execution_count": 27,
   "id": "a9cf8696-223f-4dab-a85f-34e26f0991af",
   "metadata": {},
   "outputs": [
    {
     "data": {
      "text/html": [
       "<div>\n",
       "<style scoped>\n",
       "    .dataframe tbody tr th:only-of-type {\n",
       "        vertical-align: middle;\n",
       "    }\n",
       "\n",
       "    .dataframe tbody tr th {\n",
       "        vertical-align: top;\n",
       "    }\n",
       "\n",
       "    .dataframe thead th {\n",
       "        text-align: right;\n",
       "    }\n",
       "</style>\n",
       "<table border=\"1\" class=\"dataframe\">\n",
       "  <thead>\n",
       "    <tr style=\"text-align: right;\">\n",
       "      <th></th>\n",
       "      <th>Actual values</th>\n",
       "      <th>Predicted Values</th>\n",
       "      <th>Difference</th>\n",
       "    </tr>\n",
       "  </thead>\n",
       "  <tbody>\n",
       "    <tr>\n",
       "      <th>521</th>\n",
       "      <td>261</td>\n",
       "      <td>252.365517</td>\n",
       "      <td>8.634483</td>\n",
       "    </tr>\n",
       "    <tr>\n",
       "      <th>737</th>\n",
       "      <td>192</td>\n",
       "      <td>192.883562</td>\n",
       "      <td>-0.883562</td>\n",
       "    </tr>\n",
       "    <tr>\n",
       "      <th>740</th>\n",
       "      <td>225</td>\n",
       "      <td>222.320513</td>\n",
       "      <td>2.679487</td>\n",
       "    </tr>\n",
       "    <tr>\n",
       "      <th>660</th>\n",
       "      <td>224</td>\n",
       "      <td>222.056911</td>\n",
       "      <td>1.943089</td>\n",
       "    </tr>\n",
       "    <tr>\n",
       "      <th>411</th>\n",
       "      <td>245</td>\n",
       "      <td>240.790323</td>\n",
       "      <td>4.209677</td>\n",
       "    </tr>\n",
       "    <tr>\n",
       "      <th>...</th>\n",
       "      <td>...</td>\n",
       "      <td>...</td>\n",
       "      <td>...</td>\n",
       "    </tr>\n",
       "    <tr>\n",
       "      <th>408</th>\n",
       "      <td>165</td>\n",
       "      <td>167.000000</td>\n",
       "      <td>-2.000000</td>\n",
       "    </tr>\n",
       "    <tr>\n",
       "      <th>332</th>\n",
       "      <td>171</td>\n",
       "      <td>169.250000</td>\n",
       "      <td>1.750000</td>\n",
       "    </tr>\n",
       "    <tr>\n",
       "      <th>208</th>\n",
       "      <td>231</td>\n",
       "      <td>232.734043</td>\n",
       "      <td>-1.734043</td>\n",
       "    </tr>\n",
       "    <tr>\n",
       "      <th>613</th>\n",
       "      <td>216</td>\n",
       "      <td>213.969388</td>\n",
       "      <td>2.030612</td>\n",
       "    </tr>\n",
       "    <tr>\n",
       "      <th>78</th>\n",
       "      <td>207</td>\n",
       "      <td>210.345972</td>\n",
       "      <td>-3.345972</td>\n",
       "    </tr>\n",
       "  </tbody>\n",
       "</table>\n",
       "<p>200 rows × 3 columns</p>\n",
       "</div>"
      ],
      "text/plain": [
       "     Actual values  Predicted Values  Difference\n",
       "521            261        252.365517    8.634483\n",
       "737            192        192.883562   -0.883562\n",
       "740            225        222.320513    2.679487\n",
       "660            224        222.056911    1.943089\n",
       "411            245        240.790323    4.209677\n",
       "..             ...               ...         ...\n",
       "408            165        167.000000   -2.000000\n",
       "332            171        169.250000    1.750000\n",
       "208            231        232.734043   -1.734043\n",
       "613            216        213.969388    2.030612\n",
       "78             207        210.345972   -3.345972\n",
       "\n",
       "[200 rows x 3 columns]"
      ]
     },
     "execution_count": 27,
     "metadata": {},
     "output_type": "execute_result"
    }
   ],
   "source": [
    "pred_df=pd.DataFrame({'Actual values':y_test, 'Predicted Values':y_pred, 'Difference':y_test-y_pred})\n",
    "pred_df"
   ]
  }
 ],
 "metadata": {
  "kernelspec": {
   "display_name": "Python 3 (ipykernel)",
   "language": "python",
   "name": "python3"
  },
  "language_info": {
   "codemirror_mode": {
    "name": "ipython",
    "version": 3
   },
   "file_extension": ".py",
   "mimetype": "text/x-python",
   "name": "python",
   "nbconvert_exporter": "python",
   "pygments_lexer": "ipython3",
   "version": "3.8.18"
  }
 },
 "nbformat": 4,
 "nbformat_minor": 5
}
